{
 "cells": [
  {
   "cell_type": "code",
   "execution_count": 3,
   "metadata": {},
   "outputs": [
    {
     "data": {
      "text/plain": [
       "True"
      ]
     },
     "execution_count": 3,
     "metadata": {},
     "output_type": "execute_result"
    }
   ],
   "source": [
    "from dotenv import load_dotenv\n",
    "\n",
    "load_dotenv()"
   ]
  },
  {
   "cell_type": "code",
   "execution_count": 4,
   "metadata": {},
   "outputs": [],
   "source": [
    "from langchain_openai import ChatOpenAI\n",
    "llm = ChatOpenAI()"
   ]
  },
  {
   "cell_type": "code",
   "execution_count": 18,
   "metadata": {},
   "outputs": [],
   "source": [
    "from langchain.schema.runnable import Runnable\n",
    "from langchain_core.messages.ai import AIMessage\n",
    "\n",
    "# Experiment with a Runnable that can convert a (list of) AIMessage objects to a list of strings\n",
    "class AIMessageToString(Runnable):\n",
    "    def invoke(self, input_messages, config):\n",
    "        print(f\"config: {config}\")\n",
    "        # Check if input_messages is a list\n",
    "        if isinstance(input_messages, list):\n",
    "            # Initialize an empty list to store content strings\n",
    "            content_strings = []\n",
    "            # Loop over each message in the list\n",
    "            for message in input_messages:\n",
    "                # Check if the message is a AIMessages instance\n",
    "                if isinstance(message, AIMessage):\n",
    "                    # Append the content string to the list\n",
    "                    content_strings.append(message.content)\n",
    "                else:\n",
    "                    raise TypeError(\"Expected each item in the list to be a AIMessage object.\")\n",
    "            # Return the list of content strings\n",
    "            return content_strings\n",
    "        else:\n",
    "            # Check if the message is just an AIMessages instance\n",
    "            if isinstance(input_messages, AIMessage):\n",
    "                # Return the content string\n",
    "                return input_messages.content\n",
    "            else:\n",
    "                raise TypeError(\"Expected input_message to be a AIMessage object.\")\n",
    "        "
   ]
  },
  {
   "cell_type": "code",
   "execution_count": 19,
   "metadata": {},
   "outputs": [
    {
     "name": "stdout",
     "output_type": "stream",
     "text": [
      "config: {'tags': [], 'metadata': {}, 'callbacks': <langchain_core.callbacks.manager.CallbackManager object at 0x10f518650>, 'recursion_limit': 25, 'configurable': {}}\n"
     ]
    },
    {
     "data": {
      "text/plain": [
       "\"I'm sorry, I cannot provide real-time weather information. I recommend checking a reliable weather website or app for the most up-to-date forecast for Munich.\""
      ]
     },
     "execution_count": 19,
     "metadata": {},
     "output_type": "execute_result"
    }
   ],
   "source": [
    "ai_parser = AIMessageToString()\n",
    "\n",
    "chain = llm | ai_parser\n",
    "\n",
    "chain.invoke(\"How will the weather be in munich today?\")"
   ]
  },
  {
   "cell_type": "code",
   "execution_count": 21,
   "metadata": {},
   "outputs": [],
   "source": [
    "from langchain_core.tools import tool\n",
    "\n",
    "@tool\n",
    "def fake_weather_api(city: str) -> str:\n",
    "    \"\"\"Check the weather in a specified city.\"\"\"\n",
    "    return \"Sunny, 22°C\"\n",
    "\n",
    "@tool\n",
    "def outdoor_seating_availability(city: str) -> str:\n",
    "    \"\"\"Check if outdoor seating is available at a specified restaurant in a given city.\"\"\"\n",
    "    return \"Outdoor seating is available.\"\n",
    "\n",
    "\n",
    "tools = [fake_weather_api, outdoor_seating_availability]"
   ]
  },
  {
   "cell_type": "markdown",
   "metadata": {},
   "source": [
    "It also possible to define tools using pydantic, see the comments below."
   ]
  },
  {
   "cell_type": "code",
   "execution_count": null,
   "metadata": {},
   "outputs": [],
   "source": [
    "# from langchain_core.pydantic_v1 import BaseModel, Field\n",
    "\n",
    "# class WeatherCheck(BaseModel):\n",
    "#     \"\"\"Check the weather in a specified city.\"\"\"\n",
    "\n",
    "#     city: str = Field(..., description=\"Name of the city to check the weather for\")\n",
    "\n",
    "\n",
    "# class OutdoorSeatingCheck(BaseModel):\n",
    "#     \"\"\"Check if outdoor seating is available at a specified restaurant in a given city.\"\"\"\n",
    "\n",
    "#     city: str = Field(..., description=\"Name of the city where the restaurant is located\")\n",
    "\n",
    "\n",
    "# tools = [WeatherCheck, OutdoorSeatingCheck]"
   ]
  },
  {
   "cell_type": "code",
   "execution_count": 22,
   "metadata": {},
   "outputs": [],
   "source": [
    "llm_with_tools = llm.bind_tools(tools)"
   ]
  },
  {
   "cell_type": "code",
   "execution_count": 26,
   "metadata": {},
   "outputs": [
    {
     "data": {
      "text/plain": [
       "AIMessage(content='', additional_kwargs={'tool_calls': [{'id': 'call_JG0Oq1OdGSW5EkcolQRNIrOK', 'function': {'arguments': '{\"city\":\"Munich\"}', 'name': 'fake_weather_api'}, 'type': 'function'}], 'refusal': None}, response_metadata={'token_usage': {'completion_tokens': 17, 'prompt_tokens': 90, 'total_tokens': 107, 'completion_tokens_details': {'reasoning_tokens': 0}}, 'model_name': 'gpt-3.5-turbo-0125', 'system_fingerprint': None, 'finish_reason': 'tool_calls', 'logprobs': None}, id='run-d0188d54-26d6-4a0b-b730-a5a912cf046d-0', tool_calls=[{'name': 'fake_weather_api', 'args': {'city': 'Munich'}, 'id': 'call_JG0Oq1OdGSW5EkcolQRNIrOK', 'type': 'tool_call'}], usage_metadata={'input_tokens': 90, 'output_tokens': 17, 'total_tokens': 107})"
      ]
     },
     "execution_count": 26,
     "metadata": {},
     "output_type": "execute_result"
    }
   ],
   "source": [
    "llm_with_tools.invoke(\"How will the weather be in munich today?\")\n"
   ]
  },
  {
   "cell_type": "code",
   "execution_count": 27,
   "metadata": {},
   "outputs": [
    {
     "data": {
      "text/plain": [
       "AIMessage(content='', additional_kwargs={'tool_calls': [{'id': 'call_OSWkntA9FYt9hQKrTaDlGA8I', 'function': {'arguments': '{\"city\": \"Munich\"}', 'name': 'fake_weather_api'}, 'type': 'function'}, {'id': 'call_XjX5SJ17jqLrrgzcRoy89asF', 'function': {'arguments': '{\"city\": \"Munich\"}', 'name': 'outdoor_seating_availability'}, 'type': 'function'}], 'refusal': None}, response_metadata={'token_usage': {'completion_tokens': 52, 'prompt_tokens': 98, 'total_tokens': 150, 'completion_tokens_details': {'reasoning_tokens': 0}}, 'model_name': 'gpt-3.5-turbo-0125', 'system_fingerprint': None, 'finish_reason': 'tool_calls', 'logprobs': None}, id='run-cbbc2503-cd4f-4009-8b77-b7397ceab51c-0', tool_calls=[{'name': 'fake_weather_api', 'args': {'city': 'Munich'}, 'id': 'call_OSWkntA9FYt9hQKrTaDlGA8I', 'type': 'tool_call'}, {'name': 'outdoor_seating_availability', 'args': {'city': 'Munich'}, 'id': 'call_XjX5SJ17jqLrrgzcRoy89asF', 'type': 'tool_call'}], usage_metadata={'input_tokens': 98, 'output_tokens': 52, 'total_tokens': 150})"
      ]
     },
     "execution_count": 27,
     "metadata": {},
     "output_type": "execute_result"
    }
   ],
   "source": [
    "result = llm_with_tools.invoke(\"How will the weather be in munich today? I would like to eat outside if possible\")\n",
    "result"
   ]
  },
  {
   "cell_type": "code",
   "execution_count": 28,
   "metadata": {},
   "outputs": [
    {
     "data": {
      "text/plain": [
       "[{'name': 'fake_weather_api',\n",
       "  'args': {'city': 'Munich'},\n",
       "  'id': 'call_OSWkntA9FYt9hQKrTaDlGA8I',\n",
       "  'type': 'tool_call'},\n",
       " {'name': 'outdoor_seating_availability',\n",
       "  'args': {'city': 'Munich'},\n",
       "  'id': 'call_XjX5SJ17jqLrrgzcRoy89asF',\n",
       "  'type': 'tool_call'}]"
      ]
     },
     "execution_count": 28,
     "metadata": {},
     "output_type": "execute_result"
    }
   ],
   "source": [
    "result.tool_calls"
   ]
  },
  {
   "cell_type": "code",
   "execution_count": 29,
   "metadata": {},
   "outputs": [],
   "source": [
    "from langchain_core.messages import HumanMessage, ToolMessage\n",
    "\n",
    "messages = [HumanMessage(\"How will the weather be in munich today? I would like to eat outside if possible\")]\n",
    "llm_output = llm_with_tools.invoke(messages)\n",
    "messages.append(llm_output)"
   ]
  },
  {
   "cell_type": "code",
   "execution_count": 30,
   "metadata": {},
   "outputs": [
    {
     "data": {
      "text/plain": [
       "[HumanMessage(content='How will the weather be in munich today? I would like to eat outside if possible', additional_kwargs={}, response_metadata={}),\n",
       " AIMessage(content='', additional_kwargs={'tool_calls': [{'id': 'call_16Q0jRaqZMDeAqTMRAgCQUuO', 'function': {'arguments': '{\"city\": \"munich\"}', 'name': 'fake_weather_api'}, 'type': 'function'}, {'id': 'call_AJhKbNufgobpJ3J5TvbO2B2D', 'function': {'arguments': '{\"city\": \"munich\"}', 'name': 'outdoor_seating_availability'}, 'type': 'function'}], 'refusal': None}, response_metadata={'token_usage': {'completion_tokens': 50, 'prompt_tokens': 98, 'total_tokens': 148, 'completion_tokens_details': {'reasoning_tokens': 0}}, 'model_name': 'gpt-3.5-turbo-0125', 'system_fingerprint': None, 'finish_reason': 'tool_calls', 'logprobs': None}, id='run-895f63da-c167-4177-a3e9-d5bd503b0c7d-0', tool_calls=[{'name': 'fake_weather_api', 'args': {'city': 'munich'}, 'id': 'call_16Q0jRaqZMDeAqTMRAgCQUuO', 'type': 'tool_call'}, {'name': 'outdoor_seating_availability', 'args': {'city': 'munich'}, 'id': 'call_AJhKbNufgobpJ3J5TvbO2B2D', 'type': 'tool_call'}], usage_metadata={'input_tokens': 98, 'output_tokens': 50, 'total_tokens': 148})]"
      ]
     },
     "execution_count": 30,
     "metadata": {},
     "output_type": "execute_result"
    }
   ],
   "source": [
    "messages"
   ]
  },
  {
   "cell_type": "code",
   "execution_count": 31,
   "metadata": {},
   "outputs": [],
   "source": [
    "tool_mapping = {\"fake_weather_api\": fake_weather_api, \"outdoor_seating_availability\": outdoor_seating_availability}"
   ]
  },
  {
   "cell_type": "code",
   "execution_count": 32,
   "metadata": {},
   "outputs": [],
   "source": [
    "for tool_call in llm_output.tool_calls:\n",
    "    tool = tool_mapping[tool_call[\"name\"].lower()]\n",
    "    # NOTE: each tool implements the Runnable interface!\n",
    "    tool_output = tool.invoke(tool_call[\"args\"])\n",
    "    messages.append(ToolMessage(tool_output, tool_call_id=tool_call[\"id\"]))"
   ]
  },
  {
   "cell_type": "code",
   "execution_count": 33,
   "metadata": {},
   "outputs": [
    {
     "data": {
      "text/plain": [
       "[HumanMessage(content='How will the weather be in munich today? I would like to eat outside if possible', additional_kwargs={}, response_metadata={}),\n",
       " AIMessage(content='', additional_kwargs={'tool_calls': [{'id': 'call_16Q0jRaqZMDeAqTMRAgCQUuO', 'function': {'arguments': '{\"city\": \"munich\"}', 'name': 'fake_weather_api'}, 'type': 'function'}, {'id': 'call_AJhKbNufgobpJ3J5TvbO2B2D', 'function': {'arguments': '{\"city\": \"munich\"}', 'name': 'outdoor_seating_availability'}, 'type': 'function'}], 'refusal': None}, response_metadata={'token_usage': {'completion_tokens': 50, 'prompt_tokens': 98, 'total_tokens': 148, 'completion_tokens_details': {'reasoning_tokens': 0}}, 'model_name': 'gpt-3.5-turbo-0125', 'system_fingerprint': None, 'finish_reason': 'tool_calls', 'logprobs': None}, id='run-895f63da-c167-4177-a3e9-d5bd503b0c7d-0', tool_calls=[{'name': 'fake_weather_api', 'args': {'city': 'munich'}, 'id': 'call_16Q0jRaqZMDeAqTMRAgCQUuO', 'type': 'tool_call'}, {'name': 'outdoor_seating_availability', 'args': {'city': 'munich'}, 'id': 'call_AJhKbNufgobpJ3J5TvbO2B2D', 'type': 'tool_call'}], usage_metadata={'input_tokens': 98, 'output_tokens': 50, 'total_tokens': 148}),\n",
       " ToolMessage(content='Sunny, 22°C', tool_call_id='call_16Q0jRaqZMDeAqTMRAgCQUuO'),\n",
       " ToolMessage(content='Outdoor seating is available.', tool_call_id='call_AJhKbNufgobpJ3J5TvbO2B2D')]"
      ]
     },
     "execution_count": 33,
     "metadata": {},
     "output_type": "execute_result"
    }
   ],
   "source": [
    "messages"
   ]
  },
  {
   "cell_type": "code",
   "execution_count": 35,
   "metadata": {},
   "outputs": [
    {
     "name": "stdout",
     "output_type": "stream",
     "text": [
      "config: {'tags': [], 'metadata': {}, 'callbacks': <langchain_core.callbacks.manager.CallbackManager object at 0x10ee6cef0>, 'recursion_limit': 25, 'configurable': {}}\n"
     ]
    },
    {
     "data": {
      "text/plain": [
       "'The weather in Munich today is sunny with a temperature of 22°C. Outdoor seating is available, so you can enjoy your meal outside.'"
      ]
     },
     "execution_count": 35,
     "metadata": {},
     "output_type": "execute_result"
    }
   ],
   "source": [
    "ai_parser = AIMessageToString()\n",
    "\n",
    "chain = llm_with_tools | ai_parser\n",
    "\n",
    "chain.invoke(messages)"
   ]
  },
  {
   "cell_type": "markdown",
   "metadata": {},
   "source": [
    "### Real third party API Call"
   ]
  },
  {
   "cell_type": "code",
   "execution_count": null,
   "metadata": {},
   "outputs": [],
   "source": [
    "from langchain_core.tools import tool\n",
    "import httpx\n",
    "\n",
    "@tool\n",
    "def fake_weather_api(city: str) -> str:\n",
    "    \"\"\"Check the weather in a specified city from a FastAPI endpoint on localhost:8000.\"\"\"\n",
    "    # Make an HTTP GET request to the FastAPI endpoint\n",
    "    response = httpx.get(f\"http://localhost:8000/weather?city={city}\")\n",
    "\n",
    "    if response.status_code == 200:\n",
    "        return response.json().get(\"weather\", \"Weather information not available\")\n",
    "    else:\n",
    "        return \"Failed to get weather information\"\n",
    "\n",
    "\n",
    "@tool\n",
    "def outdoor_seating_availability(city: str) -> str:\n",
    "    \"\"\"Check if outdoor seating is available in a specified city from a FastAPI endpoint on localhost:8000.\"\"\"\n",
    "    # Make an HTTP GET request to the FastAPI endpoint\n",
    "    response = httpx.get(f\"http://localhost:8000/outdoor-seating?city={city}\")\n",
    "\n",
    "    if response.status_code == 200:\n",
    "        return response.json().get(\"outdoor_seating\", \"Outdoor seating information not available\")\n",
    "    else:\n",
    "        return \"Failed to get outdoor seating information\"\n",
    "\n",
    "\n",
    "api_tools = [fake_weather_api, outdoor_seating_availability]\n",
    "tool_mapping = {\"fake_weather_api\": fake_weather_api, \"outdoor_seating_availability\": outdoor_seating_availability}"
   ]
  },
  {
   "cell_type": "code",
   "execution_count": null,
   "metadata": {},
   "outputs": [],
   "source": [
    "from langchain_openai import ChatOpenAI\n",
    "\n",
    "def interact_with_llm_and_tools(human_message: str):\n",
    "\n",
    "    llm = ChatOpenAI()\n",
    "    llm_with_tools_new = llm.bind_tools(api_tools)\n",
    "\n",
    "    messages = [human_message]\n",
    "\n",
    "    llm_output = llm_with_tools_new.invoke(messages)\n",
    "    messages.append(llm_output)\n",
    "\n",
    "    for tool_call in llm_output.tool_calls:\n",
    "        tool_name = tool_call[\"name\"].lower()\n",
    "        tool = tool_mapping.get(tool_name)\n",
    "\n",
    "        if tool:\n",
    "            tool_output = tool.invoke(tool_call[\"args\"])\n",
    "            messages.append(ToolMessage(tool_output, tool_call_id=tool_call[\"id\"]))\n",
    "\n",
    "    final_response = llm_with_tools_new.invoke(messages)\n",
    "    return final_response"
   ]
  },
  {
   "cell_type": "code",
   "execution_count": null,
   "metadata": {},
   "outputs": [],
   "source": [
    "interact_with_llm_and_tools(\"How will the weather be in sunnytown today? I would like to eat outside if possible\")"
   ]
  },
  {
   "cell_type": "code",
   "execution_count": null,
   "metadata": {},
   "outputs": [],
   "source": [
    "interact_with_llm_and_tools(\"How will the weather be in rainytown today? I would like to eat outside if possible\")"
   ]
  },
  {
   "cell_type": "code",
   "execution_count": null,
   "metadata": {},
   "outputs": [],
   "source": [
    "interact_with_llm_and_tools(\"How will the weather be in munich today? I would like to eat outside if possible\")"
   ]
  }
 ],
 "metadata": {
  "kernelspec": {
   "display_name": "app",
   "language": "python",
   "name": "python3"
  },
  "language_info": {
   "codemirror_mode": {
    "name": "ipython",
    "version": 3
   },
   "file_extension": ".py",
   "mimetype": "text/x-python",
   "name": "python",
   "nbconvert_exporter": "python",
   "pygments_lexer": "ipython3",
   "version": "3.12.5"
  }
 },
 "nbformat": 4,
 "nbformat_minor": 2
}
